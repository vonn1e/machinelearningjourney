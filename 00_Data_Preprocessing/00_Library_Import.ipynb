{
 "cells": [
  {
   "cell_type": "markdown",
   "id": "59276574",
   "metadata": {},
   "source": [
    "# Machine Learning Journey\n",
    "## Data Prepocessing Steps\n",
    "---\n",
    "Before we can get into the joys and wonder of Machine Learning we need to complete a neccessary evil: data pre-processing.  You see... Machine Learning is based on math not magic so the accuracy of the ML model is based, in a large part, on the quality of the data supplied to the model.  So before we start cranking away making predictions and plotting outcomes we need to feed the ML model high quality data \"food\" before it can attempt to divine the future.\n",
    "\n",
    "Depending on the dataset, there are usually four to six steps needed to get the data right before we can work with it.\n",
    "\n",
    "1. Library Import\n",
    "2. Data Import\n",
    "3. Managing Missing Data\n",
    "4. Encoding Categorical Data\n",
    "5. Spliting the Data\n",
    "6. Feature Scaling\n",
    "\n",
    "So it all starts with importing our machine learning libraries!  So that's what we'll do in this lesson:\n",
    "\n",
    "\n",
    "## Library Import\n",
    "1. Import the libraries we will use with all our machine learning implementations\n"
   ]
  },
  {
   "cell_type": "code",
   "execution_count": 1,
   "id": "d7eb6db9",
   "metadata": {},
   "outputs": [],
   "source": [
    "# Let's us work with arrays and use the \"np\" alias\n",
    "import numpy as np \n",
    "\n",
    "# Let's us work with charts and graphs\n",
    "import matplotlib.pyplot as plt\n",
    "\n",
    "# Let's us import the dataset and \n",
    "# create a matrix of features and dependent variable vectors\n",
    "import pandas as pd"
   ]
  }
 ],
 "metadata": {
  "kernelspec": {
   "display_name": "Python 3 (ipykernel)",
   "language": "python",
   "name": "python3"
  },
  "language_info": {
   "codemirror_mode": {
    "name": "ipython",
    "version": 3
   },
   "file_extension": ".py",
   "mimetype": "text/x-python",
   "name": "python",
   "nbconvert_exporter": "python",
   "pygments_lexer": "ipython3",
   "version": "3.9.7"
  }
 },
 "nbformat": 4,
 "nbformat_minor": 5
}
