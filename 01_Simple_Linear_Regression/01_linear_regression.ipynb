{
 "cells": [
  {
   "cell_type": "markdown",
   "metadata": {},
   "source": [
    "# 1. Library Import"
   ]
  },
  {
   "cell_type": "code",
   "execution_count": null,
   "metadata": {},
   "outputs": [],
   "source": [
    "# Import the correct libraries to process the data\n",
    "import numpy as np\n",
    "import matplotlib.pyplot as plt\n",
    "import pandas as pd\n"
   ]
  },
  {
   "cell_type": "markdown",
   "metadata": {},
   "source": [
    "# 2. Library Import"
   ]
  },
  {
   "cell_type": "code",
   "execution_count": null,
   "metadata": {},
   "outputs": [],
   "source": [
    "# Import the data we want to process and split into the matrix of features X and the dependent variable vector y\n",
    "# Dataset source: Kaggle.com\n",
    "\n",
    "# Import the dataset\n",
    "dataset = pd.read_csv('Salary_Data.csv')\n",
    "\n",
    "# Peak at the data the way pandas sees the data: it's a Dataframe (looks like a CSV right?)\n",
    "# pondas knows the top row is a column name and the data rows are underneath that.\n",
    "print(dataset.head(4))"
   ]
  },
  {
   "cell_type": "code",
   "execution_count": null,
   "metadata": {},
   "outputs": [],
   "source": [
    "\n",
    "# Extract the matrix of features X, the independent variable\n",
    "X = dataset.iloc[:,:-1].values\n",
    "\n",
    "# Extract the dependent variable vector y, the dependent variable\n",
    "y = dataset.iloc[:,-1].values\n"
   ]
  },
  {
   "cell_type": "code",
   "execution_count": null,
   "metadata": {},
   "outputs": [],
   "source": [
    "# Let's quickly inspect the dataset to make sure Linear Regression is a suitable model\n",
    "plt.scatter(X, y, color=\"black\", marker=\"+\")"
   ]
  },
  {
   "cell_type": "markdown",
   "metadata": {},
   "source": [
    "# 3. Data Split"
   ]
  },
  {
   "cell_type": "code",
   "execution_count": null,
   "metadata": {},
   "outputs": [],
   "source": [
    "# Looking good\n",
    "# Now split both halves of the dataset into the training and test sets.\n",
    "# We will use the training set to teach the machine learning model the correlations between years of experience and salaries\n",
    "# And we will use the test set to evaluate the performance of the trained  model to verify it is actually making accurate predictions\n",
    "from sklearn.model_selection import train_test_split\n",
    "X_train, X_test, y_train, y_test = train_test_split(X, y, test_size=0.2, random_state=0)\n",
    "\n",
    "# X_train, X_test, y_train and y_test are all 2D arrays which is perfect for the upcoming fit method\n",
    "type(X_train)"
   ]
  },
  {
   "cell_type": "markdown",
   "metadata": {},
   "source": [
    "# 4. Model Training"
   ]
  },
  {
   "cell_type": "code",
   "execution_count": null,
   "metadata": {},
   "outputs": [],
   "source": [
    "# Train the Simple Linear Regression Model\n",
    "from sklearn.linear_model import LinearRegression\n",
    "\n",
    "# Create an instance of the LinearRegression class.\n",
    "# This creates our Simple Linear Regression Model contained in an object named \"regr\"\n",
    "regr = LinearRegression() \n",
    "\n",
    "# Now we will do the actual model training with the fit() method based on the available data points.\n",
    "# We provide it the matrix of features X and the dependent variable vector y\n",
    "# We can do this by passing in two 2D arrays, basically Dataframes, into the fit() function\n",
    "# fit() has all the Linear Regression math built in\n",
    "regr.fit(X_train, y_train)\n",
    "\n",
    "# The model is now trained! You did it!"
   ]
  },
  {
   "cell_type": "code",
   "execution_count": null,
   "metadata": {},
   "outputs": [],
   "source": [
    "# Now we want to predict the observations in the test set.\n",
    "# But before we do that, lets immediately put our simple linear regression model to work.\n",
    "# According to our Simple Linear Regression Model, how much should someone with 10 years of experience earn per year?\n",
    "# Remember, we need to put the number in double brackets so it becomes a 2D array as that is what the predict() method expects :)\n",
    "print(regr.predict([[10]]))\n"
   ]
  },
  {
   "cell_type": "code",
   "execution_count": null,
   "metadata": {},
   "outputs": [],
   "source": [
    "# Okay so lets predict the results of the obervations in the test set and save those salaries to a variable named y_pred\n",
    "y_pred = regr.predict(X_test)\n",
    "\n",
    "# And let's print the ground truth features of the test set, that is, years of experience\n",
    "print(X_test)\n"
   ]
  },
  {
   "cell_type": "code",
   "execution_count": null,
   "metadata": {},
   "outputs": [],
   "source": [
    "# And now the predicted results, salaries for  X_test years of experience\n",
    "print(y_pred)"
   ]
  },
  {
   "cell_type": "markdown",
   "metadata": {},
   "source": [
    "## 4.1 Model Assessment"
   ]
  },
  {
   "cell_type": "code",
   "execution_count": null,
   "metadata": {},
   "outputs": [],
   "source": [
    "# So how accurate is our model? We want an R^2 (R Squared) value that's greater than 90%\n",
    "\n",
    "from sklearn.metrics import r2_score\n",
    "r2_score(y_test, y_pred)\n"
   ]
  },
  {
   "cell_type": "markdown",
   "metadata": {},
   "source": [
    "# 5 Graph Results"
   ]
  },
  {
   "cell_type": "code",
   "execution_count": null,
   "metadata": {},
   "outputs": [],
   "source": [
    "# Let's visualize the training set results to get a better idea what's going on with the datasets\n",
    "# The real salaries are in BLACK compared to the predicted salarie line in BLUE\n",
    "# We will put the years of experience on the X axis and salaries on the y axis\n",
    "\n",
    "# Let's put in the coordinates of the real salaries and years of experience of the training set\n",
    "# We can start the pyplot library from the matplotlib module.\n",
    "plt.scatter(X_train, y_train, color='black', marker='+')\n",
    "plt.gca().set_facecolor('xkcd:white')\n",
    "\n",
    "# Now let's plot the regression line.  This is the line of predictions that is the closest to the real salaries\n",
    "# And then we will put in the predicted salaries of the TRAINING set\n",
    "# Press Ctr + / to uncomment in VSCode\n",
    "# plt.plot(X_train, regr.predict(X_train))\n",
    "# plt.title(\"Salary vs Experience (Training Set)\", fontsize=30, color='white')\n",
    "\n",
    "# # Set the color and font of the x axis title and ticks\n",
    "# plt.tick_params(axis='x', colors='white') \n",
    "# plt.xlabel('Years of Experience', fontsize=20, color='white')\n",
    "\n",
    "# # Set the color and font of the y axis title and ticks\n",
    "# plt.tick_params(axis='y', colors='white')\n",
    "# plt.ylabel('Salary', fontsize=20, color='white')\n",
    "# plt.show()"
   ]
  },
  {
   "cell_type": "code",
   "execution_count": null,
   "metadata": {},
   "outputs": [],
   "source": [
    "# Replace with coordinates of employees in the TEST set\n",
    "# These, again, are the real years of experience and salaries \n",
    "plt.scatter(X_test, y_test, color='black', marker='+')\n",
    "plt.gca().set_facecolor('xkcd:white')\n",
    "\n",
    "# Now let's plot the regression line.  This is the line of predictions that is the closest to the real salaries\n",
    "# And then we will put in the predicted salaries of the TEST set\n",
    "# Press Ctr + / to uncomment in VSCode\n",
    "# Note: the predictedz salaries of the test set wil be on the same regression line as the training set\n",
    "# because it's based on the y = mx + b equation so we don't need to change anything here.\n",
    "# plt.plot(X_train, regr.predict(X_train))\n",
    "# plt.title(\"Salary vs Experience (Test Set)\", fontsize=30, color='white')\n",
    "\n",
    "# # Set the color and font of the x axis title and ticks\n",
    "# plt.tick_params(axis='x', colors='white') \n",
    "# plt.xlabel('Years of Experience', fontsize=20, color='white')\n",
    "\n",
    "# # Set the color and font of the y axis title and ticks\n",
    "# plt.tick_params(axis='y', colors='white')\n",
    "# plt.ylabel('Salary', fontsize=20, color='white')\n",
    "# plt.show()\n",
    "\n",
    "# So what we are seeing is the results of our TRAINED model acting on NEW data that we haven't observed before.\n",
    "# And since the real salaries are close to the regression line on this TEST set of new data, we know the model is reliable."
   ]
  },
  {
   "cell_type": "markdown",
   "metadata": {},
   "source": [
    "# 5. Equation Review"
   ]
  },
  {
   "cell_type": "code",
   "execution_count": null,
   "metadata": {},
   "outputs": [],
   "source": [
    "# View the model to see how the results were calculated\n",
    "# The Simple Linear Regression model calculates the coeficient (M) and the intercept (b)\n",
    "M = regr.coef_ # the slope\n",
    "b = regr.intercept_ # where the slope crosses the y axis\n",
    "X = 3 # the related value we want to predict, Salary (y) based Years of Experience (X)"
   ]
  },
  {
   "cell_type": "code",
   "execution_count": null,
   "metadata": {},
   "outputs": [],
   "source": [
    "y = M*X + b\n",
    "y # the dependent variable vector y"
   ]
  },
  {
   "cell_type": "code",
   "execution_count": null,
   "metadata": {},
   "outputs": [],
   "source": [
    "# Good to go!\n",
    "r2_score(y_test, y_pred)"
   ]
  },
  {
   "cell_type": "markdown",
   "metadata": {},
   "source": [
    "Awesome you did it! You built your first machine learning model!  Now let's talk about how to deal with MULTIPLE features... it's all multiple linear regression!  YOU READY!?"
   ]
  }
 ],
 "metadata": {
  "interpreter": {
   "hash": "b3ba2566441a7c06988d0923437866b63cedc61552a5af99d1f4fb67d367b25f"
  },
  "kernelspec": {
   "display_name": "Python 3.9.7 64-bit ('base': conda)",
   "language": "python",
   "name": "python3"
  },
  "language_info": {
   "codemirror_mode": {
    "name": "ipython",
    "version": 3
   },
   "file_extension": ".py",
   "mimetype": "text/x-python",
   "name": "python",
   "nbconvert_exporter": "python",
   "pygments_lexer": "ipython3",
   "version": "3.9.7"
  },
  "orig_nbformat": 4
 },
 "nbformat": 4,
 "nbformat_minor": 2
}
